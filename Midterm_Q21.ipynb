{
 "cells": [
  {
   "cell_type": "markdown",
   "id": "c2619302",
   "metadata": {},
   "source": [
    "# Question 21\n",
    "\n",
    "__int()__: Constructor that takes as input a pair of Point objects that represent the ends points of the line segment\n",
    "\n",
    "Length():: returns the length if the segment \n",
    "\n",
    "Slope() returns the slope of the segment of none if the slope is unbounded "
   ]
  },
  {
   "cell_type": "code",
   "execution_count": 2,
   "id": "d907dae0",
   "metadata": {},
   "outputs": [
    {
     "name": "stdout",
     "output_type": "stream",
     "text": [
      "5.0\n",
      "1.3333333333333333\n"
     ]
    }
   ],
   "source": [
    "class Point:\n",
    "    def __init__(self, x=0, y=0):\n",
    "        self.x = x\n",
    "        self.y = y\n",
    "\n",
    "class Segment:\n",
    "    def __init__(self, point1, point2):\n",
    "        self.point1 = point1\n",
    "        self.point2 = point2\n",
    "\n",
    "    def length(self):\n",
    "        return ((self.point1.x - self.point2.x)**2 + (self.point1.y - self.point2.y)**2)**0.5\n",
    "\n",
    "    def slope(self):\n",
    "        if self.point1.x == self.point2.x:\n",
    "            return None\n",
    "        return (self.point1.y - self.point2.y) / (self.point1.x - self.point2.x)\n",
    "\n",
    "# testing the code\n",
    "p1 = Point(3,4)\n",
    "p2 = Point()\n",
    "S = Segment(p1,p2)\n",
    "print(S.length()) # expected output: 0.75\n",
    "print(S.slope()) # expected output: 0.75"
   ]
  },
  {
   "cell_type": "code",
   "execution_count": null,
   "id": "16cbb599",
   "metadata": {},
   "outputs": [],
   "source": []
  }
 ],
 "metadata": {
  "kernelspec": {
   "display_name": "Python 3 (ipykernel)",
   "language": "python",
   "name": "python3"
  },
  "language_info": {
   "codemirror_mode": {
    "name": "ipython",
    "version": 3
   },
   "file_extension": ".py",
   "mimetype": "text/x-python",
   "name": "python",
   "nbconvert_exporter": "python",
   "pygments_lexer": "ipython3",
   "version": "3.11.4"
  }
 },
 "nbformat": 4,
 "nbformat_minor": 5
}
